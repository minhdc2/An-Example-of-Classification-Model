{
 "cells": [
  {
   "cell_type": "code",
   "execution_count": 1,
   "id": "ac63c8fc",
   "metadata": {},
   "outputs": [],
   "source": [
    "import pandas as pd\n",
    "import numpy as np\n",
    "import matplotlib.pyplot as plt\n",
    "import seaborn as sns\n",
    "import warnings\n",
    "warnings.filterwarnings('ignore')"
   ]
  },
  {
   "cell_type": "code",
   "execution_count": 2,
   "id": "7b3534c9",
   "metadata": {},
   "outputs": [],
   "source": [
    "# Import dataset\n",
    "df = pd.read_csv('.\\\\dataset\\\\train.csv')"
   ]
  },
  {
   "cell_type": "code",
   "execution_count": 3,
   "id": "862ec1c2",
   "metadata": {},
   "outputs": [
    {
     "data": {
      "text/html": [
       "<div>\n",
       "<style scoped>\n",
       "    .dataframe tbody tr th:only-of-type {\n",
       "        vertical-align: middle;\n",
       "    }\n",
       "\n",
       "    .dataframe tbody tr th {\n",
       "        vertical-align: top;\n",
       "    }\n",
       "\n",
       "    .dataframe thead th {\n",
       "        text-align: right;\n",
       "    }\n",
       "</style>\n",
       "<table border=\"1\" class=\"dataframe\">\n",
       "  <thead>\n",
       "    <tr style=\"text-align: right;\">\n",
       "      <th></th>\n",
       "      <th>PassengerId</th>\n",
       "      <th>Survived</th>\n",
       "      <th>Pclass</th>\n",
       "      <th>Name</th>\n",
       "      <th>Sex</th>\n",
       "      <th>Age</th>\n",
       "      <th>SibSp</th>\n",
       "      <th>Parch</th>\n",
       "      <th>Ticket</th>\n",
       "      <th>Fare</th>\n",
       "      <th>Cabin</th>\n",
       "      <th>Embarked</th>\n",
       "    </tr>\n",
       "  </thead>\n",
       "  <tbody>\n",
       "    <tr>\n",
       "      <th>0</th>\n",
       "      <td>1</td>\n",
       "      <td>0</td>\n",
       "      <td>3</td>\n",
       "      <td>Braund, Mr. Owen Harris</td>\n",
       "      <td>male</td>\n",
       "      <td>22.0</td>\n",
       "      <td>1</td>\n",
       "      <td>0</td>\n",
       "      <td>A/5 21171</td>\n",
       "      <td>7.2500</td>\n",
       "      <td>NaN</td>\n",
       "      <td>S</td>\n",
       "    </tr>\n",
       "    <tr>\n",
       "      <th>1</th>\n",
       "      <td>2</td>\n",
       "      <td>1</td>\n",
       "      <td>1</td>\n",
       "      <td>Cumings, Mrs. John Bradley (Florence Briggs Th...</td>\n",
       "      <td>female</td>\n",
       "      <td>38.0</td>\n",
       "      <td>1</td>\n",
       "      <td>0</td>\n",
       "      <td>PC 17599</td>\n",
       "      <td>71.2833</td>\n",
       "      <td>C85</td>\n",
       "      <td>C</td>\n",
       "    </tr>\n",
       "    <tr>\n",
       "      <th>2</th>\n",
       "      <td>3</td>\n",
       "      <td>1</td>\n",
       "      <td>3</td>\n",
       "      <td>Heikkinen, Miss. Laina</td>\n",
       "      <td>female</td>\n",
       "      <td>26.0</td>\n",
       "      <td>0</td>\n",
       "      <td>0</td>\n",
       "      <td>STON/O2. 3101282</td>\n",
       "      <td>7.9250</td>\n",
       "      <td>NaN</td>\n",
       "      <td>S</td>\n",
       "    </tr>\n",
       "    <tr>\n",
       "      <th>3</th>\n",
       "      <td>4</td>\n",
       "      <td>1</td>\n",
       "      <td>1</td>\n",
       "      <td>Futrelle, Mrs. Jacques Heath (Lily May Peel)</td>\n",
       "      <td>female</td>\n",
       "      <td>35.0</td>\n",
       "      <td>1</td>\n",
       "      <td>0</td>\n",
       "      <td>113803</td>\n",
       "      <td>53.1000</td>\n",
       "      <td>C123</td>\n",
       "      <td>S</td>\n",
       "    </tr>\n",
       "    <tr>\n",
       "      <th>4</th>\n",
       "      <td>5</td>\n",
       "      <td>0</td>\n",
       "      <td>3</td>\n",
       "      <td>Allen, Mr. William Henry</td>\n",
       "      <td>male</td>\n",
       "      <td>35.0</td>\n",
       "      <td>0</td>\n",
       "      <td>0</td>\n",
       "      <td>373450</td>\n",
       "      <td>8.0500</td>\n",
       "      <td>NaN</td>\n",
       "      <td>S</td>\n",
       "    </tr>\n",
       "  </tbody>\n",
       "</table>\n",
       "</div>"
      ],
      "text/plain": [
       "   PassengerId  Survived  Pclass  \\\n",
       "0            1         0       3   \n",
       "1            2         1       1   \n",
       "2            3         1       3   \n",
       "3            4         1       1   \n",
       "4            5         0       3   \n",
       "\n",
       "                                                Name     Sex   Age  SibSp  \\\n",
       "0                            Braund, Mr. Owen Harris    male  22.0      1   \n",
       "1  Cumings, Mrs. John Bradley (Florence Briggs Th...  female  38.0      1   \n",
       "2                             Heikkinen, Miss. Laina  female  26.0      0   \n",
       "3       Futrelle, Mrs. Jacques Heath (Lily May Peel)  female  35.0      1   \n",
       "4                           Allen, Mr. William Henry    male  35.0      0   \n",
       "\n",
       "   Parch            Ticket     Fare Cabin Embarked  \n",
       "0      0         A/5 21171   7.2500   NaN        S  \n",
       "1      0          PC 17599  71.2833   C85        C  \n",
       "2      0  STON/O2. 3101282   7.9250   NaN        S  \n",
       "3      0            113803  53.1000  C123        S  \n",
       "4      0            373450   8.0500   NaN        S  "
      ]
     },
     "execution_count": 3,
     "metadata": {},
     "output_type": "execute_result"
    }
   ],
   "source": [
    "df.head()"
   ]
  },
  {
   "attachments": {
    "image-2.png": {
     "image/png": "[encoded data removed]"
    }
   },
   "cell_type": "markdown",
   "id": "9e229a62",
   "metadata": {},
   "source": [
    "![image-2.png](attachment:image-2.png)"
   ]
  },
  {
   "cell_type": "code",
   "execution_count": 4,
   "id": "3ea7de13",
   "metadata": {},
   "outputs": [
    {
     "data": {
      "text/plain": [
       "PassengerId      int64\n",
       "Survived         int64\n",
       "Pclass           int64\n",
       "Name            object\n",
       "Sex             object\n",
       "Age            float64\n",
       "SibSp            int64\n",
       "Parch            int64\n",
       "Ticket          object\n",
       "Fare           float64\n",
       "Cabin           object\n",
       "Embarked        object\n",
       "dtype: object"
      ]
     },
     "execution_count": 4,
     "metadata": {},
     "output_type": "execute_result"
    }
   ],
   "source": [
    "df.dtypes"
   ]
  },
  {
   "cell_type": "code",
   "execution_count": 5,
   "id": "243769a4",
   "metadata": {},
   "outputs": [],
   "source": [
    "# Define columns in usage\n",
    "target_col = ['Survived']\n",
    "removed_features = ['PassengerId']\n",
    "features = [col for col in list(df.columns) if col not in removed_features + target_col]"
   ]
  },
  {
   "cell_type": "markdown",
   "id": "1290b6e6-2210-423f-bb3b-7eb1aedf5b10",
   "metadata": {},
   "source": [
    "Identify numerical and categorical features"
   ]
  },
  {
   "cell_type": "code",
   "execution_count": 6,
   "id": "50ea1091-4647-42d6-a8f7-7e254e98ccbb",
   "metadata": {},
   "outputs": [],
   "source": [
    "num_features = ['Age', 'SibSp', 'Parch', 'Fare', 'Pclass']\n",
    "cat_features = ['Name', 'Sex', 'Ticket', 'Cabin', 'Embarked']"
   ]
  },
  {
   "cell_type": "markdown",
   "id": "96815b32-14c1-4fbd-9b09-00a07cda7de4",
   "metadata": {},
   "source": [
    "**Name, Ticket** features are removed because each passenger is likely to have an unique name and ticket number."
   ]
  },
  {
   "cell_type": "code",
   "execution_count": 7,
   "id": "a5135e2d-607b-452f-96bd-007dfca9f2cc",
   "metadata": {},
   "outputs": [],
   "source": [
    "cat_features.remove('Name')\n",
    "cat_features.remove('Ticket')"
   ]
  },
  {
   "cell_type": "markdown",
   "id": "2fe4195e",
   "metadata": {},
   "source": [
    "### A. Train/Test Split\n",
    "\n",
    "Original dataset is splitted as followings: \n",
    "\n",
    "30% samples are selected randomly to test set and the remaining is train set"
   ]
  },
  {
   "cell_type": "code",
   "execution_count": 8,
   "id": "911d9716",
   "metadata": {},
   "outputs": [],
   "source": [
    "from sklearn.model_selection import train_test_split\n",
    "\n",
    "train_set, test_set = train_test_split(df, test_size=0.3, random_state=42)"
   ]
  },
  {
   "cell_type": "code",
   "execution_count": 9,
   "id": "e64f75c2",
   "metadata": {},
   "outputs": [],
   "source": [
    "# Train set\n",
    "train_label = train_set[target_col]\n",
    "train_cat = train_set[cat_features]\n",
    "train_num = train_set[num_features]\n",
    "\n",
    "# Test set\n",
    "test_label = test_set[target_col]\n",
    "test_cat = test_set[cat_features]\n",
    "test_num = test_set[num_features]"
   ]
  },
  {
   "cell_type": "markdown",
   "id": "4e51ff41",
   "metadata": {},
   "source": [
    "### B. Base Model"
   ]
  },
  {
   "cell_type": "markdown",
   "id": "a0bbf422",
   "metadata": {},
   "source": [
    "Firstly, we need to develop a base-line model with minimum processing.\n",
    "\n",
    "**Base-line model** is used to compare with other model versions then.\n",
    "\n",
    "I select Logistic Regression - one of most popular models for classification as our base-line.\n",
    "\n",
    "And to train the model, we need to ensure pre-requisites:\n",
    "* Missing values were treated\n",
    "* Categorical features were encoded to numerical values"
   ]
  },
  {
   "cell_type": "markdown",
   "id": "3e77939e",
   "metadata": {},
   "source": [
    "#### 1. Categorical features encoding"
   ]
  },
  {
   "cell_type": "markdown",
   "id": "a7dc7f49",
   "metadata": {},
   "source": [
    "* **Categorical encoding**"
   ]
  },
  {
   "cell_type": "markdown",
   "id": "46f66434",
   "metadata": {},
   "source": [
    "* Ordinal Encoder"
   ]
  },
  {
   "cell_type": "code",
   "execution_count": 10,
   "id": "78d469b6",
   "metadata": {},
   "outputs": [
    {
     "data": {
      "text/plain": [
       "array([['male', 'A34', 'S'],\n",
       "       ['male', 'Missing', 'S'],\n",
       "       ['female', 'Missing', 'S'],\n",
       "       ['male', 'Missing', 'S'],\n",
       "       ['male', 'Missing', 'S']], dtype=object)"
      ]
     },
     "execution_count": 10,
     "metadata": {},
     "output_type": "execute_result"
    }
   ],
   "source": [
    "from sklearn.impute import SimpleImputer\n",
    "\n",
    "imputer = SimpleImputer(strategy=\"constant\", fill_value=\"Missing\")\n",
    "X_cat_array = imputer.fit_transform(train_set[cat_features])\n",
    "X_cat_array[:5]"
   ]
  },
  {
   "cell_type": "code",
   "execution_count": 11,
   "id": "77ceaa70",
   "metadata": {},
   "outputs": [
    {
     "data": {
      "text/plain": [
       "array([[  1.,   8.,   3.],\n",
       "       [  1., 105.,   3.],\n",
       "       [  0., 105.,   3.],\n",
       "       [  1., 105.,   3.],\n",
       "       [  1., 105.,   3.]])"
      ]
     },
     "execution_count": 11,
     "metadata": {},
     "output_type": "execute_result"
    }
   ],
   "source": [
    "from sklearn.preprocessing import OrdinalEncoder\n",
    "\n",
    "ordinal_encoder = OrdinalEncoder()\n",
    "train_cat_ordinal = ordinal_encoder.fit_transform(X_cat_array)\n",
    "X_cat_array = train_cat_ordinal\n",
    "X_cat_array[:5]"
   ]
  },
  {
   "cell_type": "markdown",
   "id": "25ae7f92",
   "metadata": {},
   "source": [
    "Name ordinal encoded categorical features"
   ]
  },
  {
   "cell_type": "code",
   "execution_count": 12,
   "id": "93cf61e9",
   "metadata": {},
   "outputs": [],
   "source": [
    "encoded_cat_features = cat_features"
   ]
  },
  {
   "cell_type": "markdown",
   "id": "22ad1f24",
   "metadata": {},
   "source": [
    "#### 2. Missing values treatment"
   ]
  },
  {
   "cell_type": "markdown",
   "id": "2056bdfd",
   "metadata": {},
   "source": [
    "After ordinal encoding, categorical features have no more missing values.\n",
    "\n",
    "Therefore, we only handle missing values for numerical features now."
   ]
  },
  {
   "cell_type": "code",
   "execution_count": 13,
   "id": "87d8e7eb",
   "metadata": {},
   "outputs": [
    {
     "data": {
      "text/html": [
       "<div>\n",
       "<style scoped>\n",
       "    .dataframe tbody tr th:only-of-type {\n",
       "        vertical-align: middle;\n",
       "    }\n",
       "\n",
       "    .dataframe tbody tr th {\n",
       "        vertical-align: top;\n",
       "    }\n",
       "\n",
       "    .dataframe thead th {\n",
       "        text-align: right;\n",
       "    }\n",
       "</style>\n",
       "<table border=\"1\" class=\"dataframe\">\n",
       "  <thead>\n",
       "    <tr style=\"text-align: right;\">\n",
       "      <th></th>\n",
       "      <th>Age</th>\n",
       "      <th>SibSp</th>\n",
       "      <th>Parch</th>\n",
       "      <th>Fare</th>\n",
       "      <th>Pclass</th>\n",
       "    </tr>\n",
       "  </thead>\n",
       "  <tbody>\n",
       "    <tr>\n",
       "      <th>445</th>\n",
       "      <td>4.0</td>\n",
       "      <td>0</td>\n",
       "      <td>2</td>\n",
       "      <td>81.8583</td>\n",
       "      <td>1</td>\n",
       "    </tr>\n",
       "    <tr>\n",
       "      <th>650</th>\n",
       "      <td>NaN</td>\n",
       "      <td>0</td>\n",
       "      <td>0</td>\n",
       "      <td>7.8958</td>\n",
       "      <td>3</td>\n",
       "    </tr>\n",
       "    <tr>\n",
       "      <th>172</th>\n",
       "      <td>1.0</td>\n",
       "      <td>1</td>\n",
       "      <td>1</td>\n",
       "      <td>11.1333</td>\n",
       "      <td>3</td>\n",
       "    </tr>\n",
       "    <tr>\n",
       "      <th>450</th>\n",
       "      <td>36.0</td>\n",
       "      <td>1</td>\n",
       "      <td>2</td>\n",
       "      <td>27.7500</td>\n",
       "      <td>2</td>\n",
       "    </tr>\n",
       "    <tr>\n",
       "      <th>314</th>\n",
       "      <td>43.0</td>\n",
       "      <td>1</td>\n",
       "      <td>1</td>\n",
       "      <td>26.2500</td>\n",
       "      <td>2</td>\n",
       "    </tr>\n",
       "  </tbody>\n",
       "</table>\n",
       "</div>"
      ],
      "text/plain": [
       "      Age  SibSp  Parch     Fare  Pclass\n",
       "445   4.0      0      2  81.8583       1\n",
       "650   NaN      0      0   7.8958       3\n",
       "172   1.0      1      1  11.1333       3\n",
       "450  36.0      1      2  27.7500       2\n",
       "314  43.0      1      1  26.2500       2"
      ]
     },
     "execution_count": 13,
     "metadata": {},
     "output_type": "execute_result"
    }
   ],
   "source": [
    "train_num.head()"
   ]
  },
  {
   "cell_type": "code",
   "execution_count": 14,
   "id": "1b505f84",
   "metadata": {},
   "outputs": [],
   "source": [
    "from sklearn.impute import SimpleImputer\n",
    "\n",
    "imputer = SimpleImputer(strategy=\"median\")\n",
    "X_num_array = imputer.fit_transform(train_num)"
   ]
  },
  {
   "cell_type": "code",
   "execution_count": 15,
   "id": "99c4d749",
   "metadata": {},
   "outputs": [
    {
     "data": {
      "text/plain": [
       "array([28.    ,  0.    ,  0.    , 14.4542,  3.    ])"
      ]
     },
     "execution_count": 15,
     "metadata": {},
     "output_type": "execute_result"
    }
   ],
   "source": [
    "imputer.statistics_"
   ]
  },
  {
   "cell_type": "code",
   "execution_count": 16,
   "id": "82f826c9",
   "metadata": {},
   "outputs": [
    {
     "data": {
      "text/plain": [
       "array([28.    ,  0.    ,  0.    , 14.4542,  3.    ])"
      ]
     },
     "execution_count": 16,
     "metadata": {},
     "output_type": "execute_result"
    }
   ],
   "source": [
    "train_num.median().values"
   ]
  },
  {
   "cell_type": "markdown",
   "id": "a9b47751",
   "metadata": {},
   "source": [
    "#### 3. Form train set to fit model"
   ]
  },
  {
   "cell_type": "code",
   "execution_count": 17,
   "id": "6279cae2",
   "metadata": {},
   "outputs": [
    {
     "data": {
      "text/plain": [
       "(623, 1)"
      ]
     },
     "execution_count": 17,
     "metadata": {},
     "output_type": "execute_result"
    }
   ],
   "source": [
    "# Train Labels array\n",
    "y_train_array = train_label.values\n",
    "y_train_array.shape"
   ]
  },
  {
   "cell_type": "code",
   "execution_count": 18,
   "id": "fe11b349",
   "metadata": {},
   "outputs": [
    {
     "data": {
      "text/plain": [
       "(623, 8)"
      ]
     },
     "execution_count": 18,
     "metadata": {},
     "output_type": "execute_result"
    }
   ],
   "source": [
    "# Train features array\n",
    "X_train_array = np.hstack((X_num_array, X_cat_array))\n",
    "X_train_array.shape"
   ]
  },
  {
   "cell_type": "markdown",
   "id": "2eb89ce3",
   "metadata": {},
   "source": [
    "#### 4. Form test set to validate model later ####\n",
    "\n",
    "We process data for test set following same steps as train set's"
   ]
  },
  {
   "cell_type": "code",
   "execution_count": 19,
   "id": "7c60d3eb",
   "metadata": {},
   "outputs": [
    {
     "data": {
      "text/plain": [
       "(268, 1)"
      ]
     },
     "execution_count": 19,
     "metadata": {},
     "output_type": "execute_result"
    }
   ],
   "source": [
    "# Test Labels array\n",
    "y_test_array = test_label.values\n",
    "y_test_array.shape"
   ]
  },
  {
   "cell_type": "code",
   "execution_count": 20,
   "id": "59c5ab40",
   "metadata": {},
   "outputs": [],
   "source": [
    "# Create transformation Pipeline for numerical features\n",
    "from sklearn.pipeline import Pipeline\n",
    "\n",
    "num_pipeline = Pipeline([\n",
    "    ('imputer', SimpleImputer(strategy=\"median\")),\n",
    " ])"
   ]
  },
  {
   "cell_type": "code",
   "execution_count": 21,
   "id": "0b447eac",
   "metadata": {},
   "outputs": [],
   "source": [
    "# Create transformation Pipeline for categorical features\n",
    "cat_pipeline = Pipeline([\n",
    "    ('imputer', SimpleImputer(strategy=\"constant\", fill_value=\"Missing\")),\n",
    "    ('1hot', OrdinalEncoder()),\n",
    " ])"
   ]
  },
  {
   "cell_type": "code",
   "execution_count": 22,
   "id": "481d2b8f",
   "metadata": {},
   "outputs": [],
   "source": [
    "# Combine into one pipeline for all features\n",
    "from sklearn.compose import ColumnTransformer\n",
    "\n",
    "full_pipeline = ColumnTransformer([\n",
    "    (\"num\", num_pipeline, num_features),\n",
    "    (\"cat\", cat_pipeline, cat_features),\n",
    " ])"
   ]
  },
  {
   "cell_type": "code",
   "execution_count": 23,
   "id": "d71d88c4",
   "metadata": {},
   "outputs": [
    {
     "data": {
      "text/plain": [
       "(268, 8)"
      ]
     },
     "execution_count": 23,
     "metadata": {},
     "output_type": "execute_result"
    }
   ],
   "source": [
    "X_test_array = full_pipeline.fit_transform(test_set)\n",
    "X_test_array.shape"
   ]
  },
  {
   "attachments": {
    "image.png": {
     "image/png": "[encoded data removed]"
    }
   },
   "cell_type": "markdown",
   "id": "a5a52612",
   "metadata": {},
   "source": [
    "#### 5. Fit model ####\n",
    "\n",
    "<b>Logistic Regression</b>\n",
    "![image.png](attachment:image.png)"
   ]
  },
  {
   "cell_type": "code",
   "execution_count": 24,
   "id": "1cb00e38",
   "metadata": {},
   "outputs": [
    {
     "data": {
      "text/html": [
       "<style>#sk-container-id-1 {color: black;background-color: white;}#sk-container-id-1 pre{padding: 0;}#sk-container-id-1 div.sk-toggleable {background-color: white;}#sk-container-id-1 label.sk-toggleable__label {cursor: pointer;display: block;width: 100%;margin-bottom: 0;padding: 0.3em;box-sizing: border-box;text-align: center;}#sk-container-id-1 label.sk-toggleable__label-arrow:before {content: \"▸\";float: left;margin-right: 0.25em;color: #696969;}#sk-container-id-1 label.sk-toggleable__label-arrow:hover:before {color: black;}#sk-container-id-1 div.sk-estimator:hover label.sk-toggleable__label-arrow:before {color: black;}#sk-container-id-1 div.sk-toggleable__content {max-height: 0;max-width: 0;overflow: hidden;text-align: left;background-color: #f0f8ff;}#sk-container-id-1 div.sk-toggleable__content pre {margin: 0.2em;color: black;border-radius: 0.25em;background-color: #f0f8ff;}#sk-container-id-1 input.sk-toggleable__control:checked~div.sk-toggleable__content {max-height: 200px;max-width: 100%;overflow: auto;}#sk-container-id-1 input.sk-toggleable__control:checked~label.sk-toggleable__label-arrow:before {content: \"▾\";}#sk-container-id-1 div.sk-estimator input.sk-toggleable__control:checked~label.sk-toggleable__label {background-color: #d4ebff;}#sk-container-id-1 div.sk-label input.sk-toggleable__control:checked~label.sk-toggleable__label {background-color: #d4ebff;}#sk-container-id-1 input.sk-hidden--visually {border: 0;clip: rect(1px 1px 1px 1px);clip: rect(1px, 1px, 1px, 1px);height: 1px;margin: -1px;overflow: hidden;padding: 0;position: absolute;width: 1px;}#sk-container-id-1 div.sk-estimator {font-family: monospace;background-color: #f0f8ff;border: 1px dotted black;border-radius: 0.25em;box-sizing: border-box;margin-bottom: 0.5em;}#sk-container-id-1 div.sk-estimator:hover {background-color: #d4ebff;}#sk-container-id-1 div.sk-parallel-item::after {content: \"\";width: 100%;border-bottom: 1px solid gray;flex-grow: 1;}#sk-container-id-1 div.sk-label:hover label.sk-toggleable__label {background-color: #d4ebff;}#sk-container-id-1 div.sk-serial::before {content: \"\";position: absolute;border-left: 1px solid gray;box-sizing: border-box;top: 0;bottom: 0;left: 50%;z-index: 0;}#sk-container-id-1 div.sk-serial {display: flex;flex-direction: column;align-items: center;background-color: white;padding-right: 0.2em;padding-left: 0.2em;position: relative;}#sk-container-id-1 div.sk-item {position: relative;z-index: 1;}#sk-container-id-1 div.sk-parallel {display: flex;align-items: stretch;justify-content: center;background-color: white;position: relative;}#sk-container-id-1 div.sk-item::before, #sk-container-id-1 div.sk-parallel-item::before {content: \"\";position: absolute;border-left: 1px solid gray;box-sizing: border-box;top: 0;bottom: 0;left: 50%;z-index: -1;}#sk-container-id-1 div.sk-parallel-item {display: flex;flex-direction: column;z-index: 1;position: relative;background-color: white;}#sk-container-id-1 div.sk-parallel-item:first-child::after {align-self: flex-end;width: 50%;}#sk-container-id-1 div.sk-parallel-item:last-child::after {align-self: flex-start;width: 50%;}#sk-container-id-1 div.sk-parallel-item:only-child::after {width: 0;}#sk-container-id-1 div.sk-dashed-wrapped {border: 1px dashed gray;margin: 0 0.4em 0.5em 0.4em;box-sizing: border-box;padding-bottom: 0.4em;background-color: white;}#sk-container-id-1 div.sk-label label {font-family: monospace;font-weight: bold;display: inline-block;line-height: 1.2em;}#sk-container-id-1 div.sk-label-container {text-align: center;}#sk-container-id-1 div.sk-container {/* jupyter's `normalize.less` sets `[hidden] { display: none; }` but bootstrap.min.css set `[hidden] { display: none !important; }` so we also need the `!important` here to be able to override the default hidden behavior on the sphinx rendered scikit-learn.org. See: https://github.com/scikit-learn/scikit-learn/issues/21755 */display: inline-block !important;position: relative;}#sk-container-id-1 div.sk-text-repr-fallback {display: none;}</style><div id=\"sk-container-id-1\" class=\"sk-top-container\"><div class=\"sk-text-repr-fallback\"><pre>LogisticRegression(C=100000000.0)</pre><b>In a Jupyter environment, please rerun this cell to show the HTML representation or trust the notebook. <br />On GitHub, the HTML representation is unable to render, please try loading this page with nbviewer.org.</b></div><div class=\"sk-container\" hidden><div class=\"sk-item\"><div class=\"sk-estimator sk-toggleable\"><input class=\"sk-toggleable__control sk-hidden--visually\" id=\"sk-estimator-id-1\" type=\"checkbox\" checked><label for=\"sk-estimator-id-1\" class=\"sk-toggleable__label sk-toggleable__label-arrow\">LogisticRegression</label><div class=\"sk-toggleable__content\"><pre>LogisticRegression(C=100000000.0)</pre></div></div></div></div></div>"
      ],
      "text/plain": [
       "LogisticRegression(C=100000000.0)"
      ]
     },
     "execution_count": 24,
     "metadata": {},
     "output_type": "execute_result"
    }
   ],
   "source": [
    "from sklearn.linear_model import LogisticRegression\n",
    "\n",
    "logit = LogisticRegression(C=1e8)\n",
    "logit.fit(X_train_array, y_train_array)"
   ]
  },
  {
   "cell_type": "code",
   "execution_count": 25,
   "id": "b94a3a22",
   "metadata": {},
   "outputs": [
    {
     "data": {
      "text/plain": [
       "array([[-0.02001784, -0.32968802, -0.0152543 ,  0.00684202, -0.40103057,\n",
       "        -2.75579087, -0.00297874, -0.14393812]])"
      ]
     },
     "execution_count": 25,
     "metadata": {},
     "output_type": "execute_result"
    }
   ],
   "source": [
    "logit.coef_"
   ]
  },
  {
   "cell_type": "code",
   "execution_count": 26,
   "id": "c1300c3b",
   "metadata": {},
   "outputs": [
    {
     "data": {
      "text/plain": [
       "array([3.23292469])"
      ]
     },
     "execution_count": 26,
     "metadata": {},
     "output_type": "execute_result"
    }
   ],
   "source": [
    "logit.intercept_"
   ]
  },
  {
   "cell_type": "code",
   "execution_count": 27,
   "id": "9bac0c74",
   "metadata": {},
   "outputs": [
    {
     "data": {
      "text/plain": [
       "array([[0.48251834, 0.51748166],\n",
       "       [0.8783628 , 0.1216372 ],\n",
       "       [0.26963711, 0.73036289],\n",
       "       ...,\n",
       "       [0.9455312 , 0.0544688 ],\n",
       "       [0.0773151 , 0.9226849 ],\n",
       "       [0.61563215, 0.38436785]])"
      ]
     },
     "execution_count": 27,
     "metadata": {},
     "output_type": "execute_result"
    }
   ],
   "source": [
    "logit.predict_proba(X_train_array)"
   ]
  },
  {
   "cell_type": "code",
   "execution_count": 28,
   "id": "60c7b425",
   "metadata": {},
   "outputs": [
    {
     "data": {
      "text/plain": [
       "array([0, 1], dtype=int64)"
      ]
     },
     "execution_count": 28,
     "metadata": {},
     "output_type": "execute_result"
    }
   ],
   "source": [
    "logit.classes_"
   ]
  },
  {
   "cell_type": "markdown",
   "id": "4e89e35d",
   "metadata": {},
   "source": [
    "#### 6. Model validation with test set ####"
   ]
  },
  {
   "cell_type": "code",
   "execution_count": 29,
   "id": "d3846f13",
   "metadata": {},
   "outputs": [
    {
     "data": {
      "text/plain": [
       "0.8801285361794916"
      ]
     },
     "execution_count": 29,
     "metadata": {},
     "output_type": "execute_result"
    }
   ],
   "source": [
    "from sklearn.metrics import roc_auc_score, roc_curve, auc\n",
    "\n",
    "test_scores = logit.decision_function(X_test_array)\n",
    "test_auc_score = roc_auc_score(y_test_array, test_scores)\n",
    "test_auc_score"
   ]
  },
  {
   "cell_type": "code",
   "execution_count": 30,
   "id": "90f12c48",
   "metadata": {},
   "outputs": [
    {
     "data": {
      "image/png": "[encoded data removed]",
      "text/plain": [
       "<Figure size 640x480 with 1 Axes>"
      ]
     },
     "metadata": {},
     "output_type": "display_data"
    }
   ],
   "source": [
    "fpr, tpr, thresholds = roc_curve(y_test_array, test_scores)\n",
    "def plot_roc_curve(fpr, tpr, label=None):\n",
    "    plt.plot(fpr, tpr, linewidth=2, label=label)\n",
    "    plt.plot([0, 1], [0, 1], 'k--') # Dashed diagonal\n",
    "plot_roc_curve(fpr, tpr)\n",
    "plt.show()"
   ]
  },
  {
   "cell_type": "markdown",
   "id": "9b790020-9b3b-482a-89b6-58295e0be73d",
   "metadata": {},
   "source": [
    "To prevent overfitting effect from chosen test set, I use cross-validation to calculate the average AUC score across 10 random folds"
   ]
  },
  {
   "cell_type": "code",
   "execution_count": 31,
   "id": "eba6be4e-dddc-40ee-b6b4-7ce08a6aa836",
   "metadata": {},
   "outputs": [],
   "source": [
    "from sklearn.model_selection import cross_val_score\n",
    "\n",
    "def auc_score_cv10(model):\n",
    "    train_model_scores = cross_val_score(model, X_train_array, y_train_array, \n",
    "                              scoring=\"roc_auc\", cv=10)\n",
    "    train_auc_cv10 = sum(train_model_scores)/len(train_model_scores)\n",
    "\n",
    "    test_model_scores = cross_val_score(model, X_test_array, y_test_array, \n",
    "                              scoring=\"roc_auc\", cv=10)\n",
    "    test_auc_cv10 = sum(test_model_scores)/len(test_model_scores)\n",
    "    return f'Train AUC Score Avg: {str(train_auc_cv10)}, Test AUC Score Avg: {str(test_auc_cv10)}'"
   ]
  },
  {
   "cell_type": "code",
   "execution_count": 32,
   "id": "09bb5d89-2d3f-4b7d-a81c-c484c225ba2f",
   "metadata": {},
   "outputs": [
    {
     "data": {
      "text/plain": [
       "'Train AUC Score Avg: 0.8342823299888517, Test AUC Score Avg: 0.8658459595959596'"
      ]
     },
     "execution_count": 32,
     "metadata": {},
     "output_type": "execute_result"
    }
   ],
   "source": [
    "base_model = logit\n",
    "base_model_auc = auc_score_cv10(base_model)\n",
    "base_model_auc"
   ]
  },
  {
   "cell_type": "markdown",
   "id": "bb31a529-4e8a-4b95-87f8-6f499ccfe2c4",
   "metadata": {},
   "source": [
    "Note down these figures and see if we can improve later."
   ]
  },
  {
   "cell_type": "markdown",
   "id": "180b146c",
   "metadata": {},
   "source": [
    "### C. Model Improvement\n",
    "To impove model, we can consider the following actions:\n",
    "* Get more data\n",
    "* Create new features with better prediction\n",
    "* Select right model\n",
    "* Feature scaling (or other feature transformations e.g. log,...)\n",
    "* Imputation (handle missing values)\n",
    "* Grouping/Binning/Label encoding\n",
    "* Remove multicolinearity (exclude features which are highly correlated with others)\n",
    "* Remove outliers\n",
    "* Regularization methods (e.g. Ridge, Lasso)\n",
    "* Tuning Hyper-parameters"
   ]
  },
  {
   "cell_type": "markdown",
   "id": "b308b153",
   "metadata": {},
   "source": [
    "What we have at the moment:\n",
    "* **Features**: \n",
    "    * num_features:\n",
    "        * Imputer: 'median'\n",
    "    * encoded_cat_features: 'ordinal'\n",
    "* **Model**:\n",
    "    * logit: 'Logistic Regression'"
   ]
  },
  {
   "cell_type": "markdown",
   "id": "dbc43a2d",
   "metadata": {},
   "source": [
    "#### 1. Create new features"
   ]
  },
  {
   "cell_type": "markdown",
   "id": "8983e377",
   "metadata": {},
   "source": [
    "We can visualize correlation between independent features and target labels by using defined functions below:"
   ]
  },
  {
   "cell_type": "code",
   "execution_count": 33,
   "id": "bb6c94c3",
   "metadata": {},
   "outputs": [],
   "source": [
    "import matplotlib.pyplot as plt\n",
    "import seaborn as sns\n",
    "\n",
    "def scatter_plot(data, x, y, alpha):\n",
    "    plt.scatter(x=data[x], y=data[y], alpha=alpha, c=data[x], cmap=plt.get_cmap(\"jet\"), edgecolors='none')\n",
    "    plt.xlabel(x)\n",
    "    plt.ylabel(y)\n",
    "    plt.colorbar()\n",
    "\n",
    "def bar_plot(data, x, y):\n",
    "    tmp = data[[y, x]].groupby(by=x, as_index=False).agg(\n",
    "        no_survival = (y, 'sum'),\n",
    "        no_passenger = (y, 'count')\n",
    "    )\n",
    "    tmp['survival_percent'] = tmp['no_survival']/tmp['no_passenger']\n",
    "    plt.bar(x=[str(value) for value in tmp[x]], height=tmp['survival_percent'], color=['red', 'green'])\n",
    "    plt.yticks(np.arange(0, 1.2, 0.2))\n",
    "    plt.xlabel(x)\n",
    "    plt.ylabel('survival_percent')"
   ]
  },
  {
   "cell_type": "markdown",
   "id": "c803af46-dcf1-40d4-a3fc-4cb07b6fecf1",
   "metadata": {},
   "source": [
    "Calculate the ratio of number of '1' and '0' in our train set."
   ]
  },
  {
   "cell_type": "code",
   "execution_count": 34,
   "id": "2809f9f7-fdcd-4431-8f61-4e49862304d4",
   "metadata": {},
   "outputs": [
    {
     "data": {
      "text/html": [
       "<div>\n",
       "<style scoped>\n",
       "    .dataframe tbody tr th:only-of-type {\n",
       "        vertical-align: middle;\n",
       "    }\n",
       "\n",
       "    .dataframe tbody tr th {\n",
       "        vertical-align: top;\n",
       "    }\n",
       "\n",
       "    .dataframe thead th {\n",
       "        text-align: right;\n",
       "    }\n",
       "</style>\n",
       "<table border=\"1\" class=\"dataframe\">\n",
       "  <thead>\n",
       "    <tr style=\"text-align: right;\">\n",
       "      <th></th>\n",
       "      <th>Survived</th>\n",
       "      <th>cnt_obs</th>\n",
       "      <th>ratio</th>\n",
       "    </tr>\n",
       "  </thead>\n",
       "  <tbody>\n",
       "    <tr>\n",
       "      <th>0</th>\n",
       "      <td>0</td>\n",
       "      <td>392</td>\n",
       "      <td>0.629213</td>\n",
       "    </tr>\n",
       "    <tr>\n",
       "      <th>1</th>\n",
       "      <td>1</td>\n",
       "      <td>231</td>\n",
       "      <td>0.370787</td>\n",
       "    </tr>\n",
       "  </tbody>\n",
       "</table>\n",
       "</div>"
      ],
      "text/plain": [
       "   Survived  cnt_obs     ratio\n",
       "0         0      392  0.629213\n",
       "1         1      231  0.370787"
      ]
     },
     "execution_count": 34,
     "metadata": {},
     "output_type": "execute_result"
    }
   ],
   "source": [
    "labels_ratio = train_set.groupby(by='Survived', as_index=False).agg(\n",
    " cnt_obs = ('Survived', 'count')   \n",
    ")\n",
    "labels_ratio['ratio'] = labels_ratio['cnt_obs']/len(train_set)\n",
    "labels_ratio"
   ]
  },
  {
   "cell_type": "markdown",
   "id": "b52ecd85",
   "metadata": {},
   "source": [
    "#### 1.1. 'AGE_GROUP'"
   ]
  },
  {
   "cell_type": "code",
   "execution_count": 35,
   "id": "91847bb8",
   "metadata": {},
   "outputs": [
    {
     "data": {
      "image/png": "[encoded data removed]",
      "text/plain": [
       "<Figure size 640x480 with 2 Axes>"
      ]
     },
     "metadata": {},
     "output_type": "display_data"
    }
   ],
   "source": [
    "scatter_plot(train_set, x='Age', y='Survived', alpha=0.15)"
   ]
  },
  {
   "cell_type": "markdown",
   "id": "d1cece5a-c71f-4528-b899-a312af6124f8",
   "metadata": {},
   "source": [
    "It seems that the area of AGE under 18 are more densed in label '1' than '0'\n",
    "* 0: Under 18\n",
    "* 1: Other"
   ]
  },
  {
   "cell_type": "code",
   "execution_count": 36,
   "id": "17bfc304",
   "metadata": {},
   "outputs": [
    {
     "data": {
      "text/plain": [
       "age_group\n",
       "1            540\n",
       "0             83\n",
       "dtype: int64"
      ]
     },
     "execution_count": 36,
     "metadata": {},
     "output_type": "execute_result"
    },
    {
     "data": {
      "image/png": "[encoded data removed]",
      "text/plain": [
       "<Figure size 640x480 with 1 Axes>"
      ]
     },
     "metadata": {},
     "output_type": "display_data"
    }
   ],
   "source": [
    "train_set['age_group'] = [0 if age < 18 else 1 for age in list(train_set['Age'])]\n",
    "bar_plot(train_set, x='age_group', y='Survived')\n",
    "train_set[['age_group']].value_counts()"
   ]
  },
  {
   "cell_type": "raw",
   "id": "c8f79b9c-c09d-4c37-be19-31230bc08a89",
   "metadata": {},
   "source": [
    "'Age Under 18' shows the survival rate above 50%, which is much higher than 'Age Above 18' at around 37%. Therefore, I consider to add this feature to our model."
   ]
  },
  {
   "cell_type": "markdown",
   "id": "d3ea6934",
   "metadata": {},
   "source": [
    "#### 1.2. 'UPPER_FARE'"
   ]
  },
  {
   "cell_type": "code",
   "execution_count": 37,
   "id": "af249e20",
   "metadata": {},
   "outputs": [
    {
     "data": {
      "text/plain": [
       "fare_groups   \n",
       "(-1.0, 51.0]      513\n",
       "(51.0, 102.0]      76\n",
       "(102.0, 154.0]     20\n",
       "(205.0, 256.0]      5\n",
       "(256.0, 307.0]      4\n",
       "(461.0, 512.0]      3\n",
       "(154.0, 205.0]      2\n",
       "(307.0, 359.0]      0\n",
       "(359.0, 410.0]      0\n",
       "(410.0, 461.0]      0\n",
       "dtype: int64"
      ]
     },
     "execution_count": 37,
     "metadata": {},
     "output_type": "execute_result"
    },
    {
     "data": {
      "image/png": "[encoded data removed]",
      "text/plain": [
       "<Figure size 640x480 with 1 Axes>"
      ]
     },
     "metadata": {},
     "output_type": "display_data"
    }
   ],
   "source": [
    "train_set['fare_groups'] = pd.cut(train_set['Fare'], bins=10, precision=0)\n",
    "bar_plot(train_set, x='fare_groups', y='Survived')\n",
    "train_set[['fare_groups']].value_counts()"
   ]
  },
  {
   "cell_type": "code",
   "execution_count": 38,
   "id": "9dd85066",
   "metadata": {},
   "outputs": [
    {
     "data": {
      "text/plain": [
       "upper_fare\n",
       "0             513\n",
       "1             110\n",
       "dtype: int64"
      ]
     },
     "execution_count": 38,
     "metadata": {},
     "output_type": "execute_result"
    },
    {
     "data": {
      "image/png": "[encoded data removed]",
      "text/plain": [
       "<Figure size 640x480 with 1 Axes>"
      ]
     },
     "metadata": {},
     "output_type": "display_data"
    }
   ],
   "source": [
    "train_set['upper_fare'] = [0 if value < 51 else 1 for value in train_set['Fare']]\n",
    "bar_plot(train_set, x='upper_fare', y='Survived')\n",
    "train_set[['upper_fare']].value_counts()"
   ]
  },
  {
   "cell_type": "markdown",
   "id": "87cd0f26-d727-4c01-ab6c-be6b1a045bdc",
   "metadata": {},
   "source": [
    "I notice that 'Fare Under 51' have much lower survival rate than other groups. Therefore, I consider to add a new feature based on this finding to our model and remove the original 'Fare' if needed."
   ]
  },
  {
   "cell_type": "markdown",
   "id": "2201d75b-d402-4081-81c6-34d0d78c019e",
   "metadata": {},
   "source": [
    "#### 1.3. 'CABIN_INFO_MISSING'"
   ]
  },
  {
   "cell_type": "code",
   "execution_count": 39,
   "id": "fb2ad687-f769-4b46-970b-396a0a5403b4",
   "metadata": {},
   "outputs": [
    {
     "data": {
      "text/plain": [
       "cabin_info_missing\n",
       "0                     484\n",
       "1                     139\n",
       "dtype: int64"
      ]
     },
     "execution_count": 39,
     "metadata": {},
     "output_type": "execute_result"
    },
    {
     "data": {
      "image/png": "[encoded data removed]",
      "text/plain": [
       "<Figure size 640x480 with 1 Axes>"
      ]
     },
     "metadata": {},
     "output_type": "display_data"
    }
   ],
   "source": [
    "tmp = train_set[['Survived', 'Cabin']].fillna('Missing')\n",
    "tmp['cabin_info_missing'] = [0 if Cabin == 'Missing' else 1 for Cabin in list(tmp['Cabin'])]\n",
    "bar_plot(tmp, x='cabin_info_missing', y='Survived')\n",
    "tmp[['cabin_info_missing']].value_counts()"
   ]
  },
  {
   "cell_type": "markdown",
   "id": "433ba20c-a958-4f70-afee-a42c3f03c058",
   "metadata": {},
   "source": [
    "Again, I notice that passengers with cabin information missing are less likely to survive from the disaster than others. However, when I test adding this feature in my model, the performance did not improve, so I decide to ignore this one and remove the original 'Cabin' because of significant missing."
   ]
  },
  {
   "cell_type": "markdown",
   "id": "caf2ec61-6c80-4825-a6a4-8fd722bf492f",
   "metadata": {},
   "source": [
    "For this notebook, I stop feature engineering here, you can utilize your understanding about disaster to come up with better features ideas. More advanced technique such as WoE transformation could be considered. "
   ]
  },
  {
   "cell_type": "markdown",
   "id": "2132bfbb-1e2e-4f81-931e-7af5382e1f4d",
   "metadata": {},
   "source": [
    "In addition, I can look up at correlation values between individual features and target labels to identify least impacting features to remove from our model. In the correlation table below, 'Age', 'SibSp', 'Parch' show weak impacts, however, I only remove 'Parch' because only removal of this feature showed an improvement on my model."
   ]
  },
  {
   "cell_type": "code",
   "execution_count": 40,
   "id": "be916dcc-79b2-4e0e-835e-8c3c4c6942bf",
   "metadata": {},
   "outputs": [
    {
     "data": {
      "text/html": [
       "<div>\n",
       "<style scoped>\n",
       "    .dataframe tbody tr th:only-of-type {\n",
       "        vertical-align: middle;\n",
       "    }\n",
       "\n",
       "    .dataframe tbody tr th {\n",
       "        vertical-align: top;\n",
       "    }\n",
       "\n",
       "    .dataframe thead th {\n",
       "        text-align: right;\n",
       "    }\n",
       "</style>\n",
       "<table border=\"1\" class=\"dataframe\">\n",
       "  <thead>\n",
       "    <tr style=\"text-align: right;\">\n",
       "      <th></th>\n",
       "      <th>PassengerId</th>\n",
       "      <th>Survived</th>\n",
       "      <th>Pclass</th>\n",
       "      <th>Age</th>\n",
       "      <th>SibSp</th>\n",
       "      <th>Parch</th>\n",
       "      <th>Fare</th>\n",
       "      <th>age_group</th>\n",
       "      <th>upper_fare</th>\n",
       "    </tr>\n",
       "  </thead>\n",
       "  <tbody>\n",
       "    <tr>\n",
       "      <th>PassengerId</th>\n",
       "      <td>1.000000</td>\n",
       "      <td>0.006853</td>\n",
       "      <td>-0.046089</td>\n",
       "      <td>0.031547</td>\n",
       "      <td>-0.083601</td>\n",
       "      <td>0.004945</td>\n",
       "      <td>0.019152</td>\n",
       "      <td>0.039711</td>\n",
       "      <td>0.007552</td>\n",
       "    </tr>\n",
       "    <tr>\n",
       "      <th>Survived</th>\n",
       "      <td>0.006853</td>\n",
       "      <td>1.000000</td>\n",
       "      <td>-0.312233</td>\n",
       "      <td>-0.078538</td>\n",
       "      <td>-0.049527</td>\n",
       "      <td>0.076756</td>\n",
       "      <td>0.239060</td>\n",
       "      <td>-0.139106</td>\n",
       "      <td>0.272036</td>\n",
       "    </tr>\n",
       "    <tr>\n",
       "      <th>Pclass</th>\n",
       "      <td>-0.046089</td>\n",
       "      <td>-0.312233</td>\n",
       "      <td>1.000000</td>\n",
       "      <td>-0.355026</td>\n",
       "      <td>0.097146</td>\n",
       "      <td>0.030596</td>\n",
       "      <td>-0.529208</td>\n",
       "      <td>-0.118898</td>\n",
       "      <td>-0.599154</td>\n",
       "    </tr>\n",
       "    <tr>\n",
       "      <th>Age</th>\n",
       "      <td>0.031547</td>\n",
       "      <td>-0.078538</td>\n",
       "      <td>-0.355026</td>\n",
       "      <td>1.000000</td>\n",
       "      <td>-0.319626</td>\n",
       "      <td>-0.190836</td>\n",
       "      <td>0.094097</td>\n",
       "      <td>0.640276</td>\n",
       "      <td>0.180163</td>\n",
       "    </tr>\n",
       "    <tr>\n",
       "      <th>SibSp</th>\n",
       "      <td>-0.083601</td>\n",
       "      <td>-0.049527</td>\n",
       "      <td>0.097146</td>\n",
       "      <td>-0.319626</td>\n",
       "      <td>1.000000</td>\n",
       "      <td>0.440442</td>\n",
       "      <td>0.154613</td>\n",
       "      <td>-0.303832</td>\n",
       "      <td>0.199566</td>\n",
       "    </tr>\n",
       "    <tr>\n",
       "      <th>Parch</th>\n",
       "      <td>0.004945</td>\n",
       "      <td>0.076756</td>\n",
       "      <td>0.030596</td>\n",
       "      <td>-0.190836</td>\n",
       "      <td>0.440442</td>\n",
       "      <td>1.000000</td>\n",
       "      <td>0.208619</td>\n",
       "      <td>-0.321277</td>\n",
       "      <td>0.117091</td>\n",
       "    </tr>\n",
       "    <tr>\n",
       "      <th>Fare</th>\n",
       "      <td>0.019152</td>\n",
       "      <td>0.239060</td>\n",
       "      <td>-0.529208</td>\n",
       "      <td>0.094097</td>\n",
       "      <td>0.154613</td>\n",
       "      <td>0.208619</td>\n",
       "      <td>1.000000</td>\n",
       "      <td>0.001067</td>\n",
       "      <td>0.688915</td>\n",
       "    </tr>\n",
       "    <tr>\n",
       "      <th>age_group</th>\n",
       "      <td>0.039711</td>\n",
       "      <td>-0.139106</td>\n",
       "      <td>-0.118898</td>\n",
       "      <td>0.640276</td>\n",
       "      <td>-0.303832</td>\n",
       "      <td>-0.321277</td>\n",
       "      <td>0.001067</td>\n",
       "      <td>1.000000</td>\n",
       "      <td>0.082440</td>\n",
       "    </tr>\n",
       "    <tr>\n",
       "      <th>upper_fare</th>\n",
       "      <td>0.007552</td>\n",
       "      <td>0.272036</td>\n",
       "      <td>-0.599154</td>\n",
       "      <td>0.180163</td>\n",
       "      <td>0.199566</td>\n",
       "      <td>0.117091</td>\n",
       "      <td>0.688915</td>\n",
       "      <td>0.082440</td>\n",
       "      <td>1.000000</td>\n",
       "    </tr>\n",
       "  </tbody>\n",
       "</table>\n",
       "</div>"
      ],
      "text/plain": [
       "             PassengerId  Survived    Pclass       Age     SibSp     Parch  \\\n",
       "PassengerId     1.000000  0.006853 -0.046089  0.031547 -0.083601  0.004945   \n",
       "Survived        0.006853  1.000000 -0.312233 -0.078538 -0.049527  0.076756   \n",
       "Pclass         -0.046089 -0.312233  1.000000 -0.355026  0.097146  0.030596   \n",
       "Age             0.031547 -0.078538 -0.355026  1.000000 -0.319626 -0.190836   \n",
       "SibSp          -0.083601 -0.049527  0.097146 -0.319626  1.000000  0.440442   \n",
       "Parch           0.004945  0.076756  0.030596 -0.190836  0.440442  1.000000   \n",
       "Fare            0.019152  0.239060 -0.529208  0.094097  0.154613  0.208619   \n",
       "age_group       0.039711 -0.139106 -0.118898  0.640276 -0.303832 -0.321277   \n",
       "upper_fare      0.007552  0.272036 -0.599154  0.180163  0.199566  0.117091   \n",
       "\n",
       "                 Fare  age_group  upper_fare  \n",
       "PassengerId  0.019152   0.039711    0.007552  \n",
       "Survived     0.239060  -0.139106    0.272036  \n",
       "Pclass      -0.529208  -0.118898   -0.599154  \n",
       "Age          0.094097   0.640276    0.180163  \n",
       "SibSp        0.154613  -0.303832    0.199566  \n",
       "Parch        0.208619  -0.321277    0.117091  \n",
       "Fare         1.000000   0.001067    0.688915  \n",
       "age_group    0.001067   1.000000    0.082440  \n",
       "upper_fare   0.688915   0.082440    1.000000  "
      ]
     },
     "execution_count": 40,
     "metadata": {},
     "output_type": "execute_result"
    }
   ],
   "source": [
    "train_set.corr()"
   ]
  },
  {
   "cell_type": "markdown",
   "id": "33a46871",
   "metadata": {},
   "source": [
    "* Add new features to **CombineAttributeAdder()**"
   ]
  },
  {
   "cell_type": "code",
   "execution_count": 41,
   "id": "903bad1e",
   "metadata": {},
   "outputs": [],
   "source": [
    "from sklearn.base import BaseEstimator, TransformerMixin\n",
    "\n",
    "class CombinedAttributesAdder(BaseEstimator, TransformerMixin):\n",
    "    def __init__(self, \n",
    "                 add_age_group=False,\n",
    "                 add_upper_fare=False,\n",
    "                 add_cabin_info_missing=False): # no *args or **kargs\n",
    "        self.add_age_group = add_age_group\n",
    "        self.add_upper_fare = add_upper_fare\n",
    "        self.add_cabin_info_missing = add_cabin_info_missing\n",
    "        \n",
    "    def fit(self, X, y=None):\n",
    "        return self # nothing else to do\n",
    "    def transform(self, X):\n",
    "        if self.add_age_group:\n",
    "            X['age_group'] = [0 if age < 18 else 1 for age in X['Age']]\n",
    "        if self.add_upper_fare:\n",
    "            X['upper_fare'] = [0 if value < 51 else 1 for value in X['Fare']]\n",
    "        if self.add_cabin_info_missing:\n",
    "            tmp = X[['Cabin']].fillna('Missing')\n",
    "            X['cabin_info_missing'] = [0 if value == 'Missing' else 1 for value in list(tmp['Cabin'])]\n",
    "        return X"
   ]
  },
  {
   "cell_type": "markdown",
   "id": "a8a101e0",
   "metadata": {},
   "source": [
    "* Add removed features to **CombineAttributeRemover()**"
   ]
  },
  {
   "cell_type": "code",
   "execution_count": 42,
   "id": "99ad2fcf",
   "metadata": {},
   "outputs": [],
   "source": [
    "class CombinedAttributesRemover(BaseEstimator, TransformerMixin):\n",
    "    def __init__(self, \n",
    "                 del_age=False,\n",
    "                 del_fare=False,\n",
    "                 del_embarked=False,\n",
    "                 del_parch=False,\n",
    "                 del_sibsp=False,\n",
    "                 del_cabin=False): # no *args or **kargs\n",
    "        self.del_age = del_age\n",
    "        self.del_fare = del_fare\n",
    "        self.del_embarked = del_embarked\n",
    "        self.del_parch=del_parch\n",
    "        self.del_sibsp=del_sibsp\n",
    "        self.del_cabin=del_cabin\n",
    "        \n",
    "    def fit(self, X, y=None):\n",
    "        return self # nothing else to do\n",
    "    def transform(self, X):\n",
    "        if self.del_age:\n",
    "            X.drop('Age', axis=1, inplace=True)\n",
    "        if self.del_fare:\n",
    "            X.drop('Fare', axis=1, inplace=True)\n",
    "        if self.del_embarked:\n",
    "            X.drop('Embarked', axis=1, inplace=True)\n",
    "        if self.del_parch:\n",
    "            X.drop('Parch', axis=1, inplace=True)\n",
    "        if self.del_sibsp:\n",
    "            X.drop('SibSp', axis=1, inplace=True)\n",
    "        if self.del_cabin:\n",
    "            X.drop('Cabin', axis=1, inplace=True)\n",
    "        return X"
   ]
  },
  {
   "cell_type": "markdown",
   "id": "c2ab3f01",
   "metadata": {},
   "source": [
    "Define pipeline for features processing, which contains:\n",
    "\n",
    "* One pipeline to process numerical features:\n",
    "    1. Add new features: 'upper_fare'\n",
    "    2. Remove features: 'Fare', 'Parch'\n",
    "    3. Replace missing values with median values\n",
    "    4. Standard Scaling (served to SVM)\n",
    "\n",
    "...\n",
    "* One pipeline to process categorical features:\n",
    "    1. Remove features: 'Embarked', 'Cabin'\n",
    "    2. Replace missing values with a constant value\n",
    "    3. Ordincal encoding"
   ]
  },
  {
   "cell_type": "code",
   "execution_count": 43,
   "id": "42421dba",
   "metadata": {},
   "outputs": [],
   "source": [
    "def roc_auc(model, X_array, y_array):\n",
    "    y_score = model.predict_proba(X_array)\n",
    "    fpr, tpr, _ = roc_curve(y_array, y_score[:, 1])\n",
    "    roc_auc = auc(fpr, tpr)\n",
    "    return roc_auc"
   ]
  },
  {
   "cell_type": "code",
   "execution_count": 44,
   "id": "df9f58f0",
   "metadata": {},
   "outputs": [],
   "source": [
    "# Create transformation Pipeline for numerical features\n",
    "from sklearn.pipeline import Pipeline\n",
    "from sklearn.preprocessing import StandardScaler\n",
    "\n",
    "num_pipeline = Pipeline([\n",
    "    ('features_adder', CombinedAttributesAdder(add_age_group=True, \n",
    "                                               add_upper_fare=True)),\n",
    "    ('features_remover', CombinedAttributesRemover(del_age=False,\n",
    "                                                   del_fare=True,\n",
    "                                                   del_parch=True,\n",
    "                                                   del_sibsp=False)),\n",
    "    ('imputer', SimpleImputer(strategy=\"median\")),\n",
    "    ('scaler', StandardScaler())\n",
    " ])\n",
    "\n",
    "# Create transformation Pipeline for categorical features\n",
    "from sklearn.preprocessing import OrdinalEncoder, OneHotEncoder\n",
    "\n",
    "cat_pipeline = Pipeline([\n",
    "    ('features_adder', CombinedAttributesAdder(add_cabin_info_missing=False)),\n",
    "    ('features_remover', CombinedAttributesRemover(del_embarked=True,\n",
    "                                                   del_cabin=True)),\n",
    "    ('imputer', SimpleImputer(strategy=\"constant\", fill_value=\"Missing\")),\n",
    "    ('ordinal', OrdinalEncoder()),\n",
    "    # ('1hot', OneHotEncoder()),\n",
    " ])\n",
    "\n",
    "# Combine into one pipeline for all features\n",
    "from sklearn.compose import ColumnTransformer\n",
    "\n",
    "full_pipeline = ColumnTransformer([\n",
    "    (\"num\", num_pipeline, num_features),\n",
    "    (\"cat\", cat_pipeline, cat_features),\n",
    " ])\n",
    "\n",
    "# Test Labels array\n",
    "y_train_array = train_label.values\n",
    "X_train_array = full_pipeline.fit_transform(train_set)"
   ]
  },
  {
   "cell_type": "markdown",
   "id": "239a4c18-c910-4c58-b226-c3ec00e8edb4",
   "metadata": {},
   "source": [
    "Apply defined processing pipeline above to test set:"
   ]
  },
  {
   "cell_type": "code",
   "execution_count": 45,
   "id": "d9b8fad7-b86b-43e1-8390-a103af916d2e",
   "metadata": {},
   "outputs": [],
   "source": [
    "# Form test set\n",
    "y_test_array = test_label.values\n",
    "X_test_array = full_pipeline.fit_transform(test_set[num_features + cat_features])"
   ]
  },
  {
   "cell_type": "markdown",
   "id": "474bf623-8d0e-4a1e-9bed-3f66b5ee8314",
   "metadata": {},
   "source": [
    "Fitting train set with different models:\n",
    "* Logistic Regression\n",
    "* Decision Tree\n",
    "* Random Forest\n",
    "* Support Vector Machine\n",
    "* AdaBoost"
   ]
  },
  {
   "cell_type": "code",
   "execution_count": 46,
   "id": "3b98820b-b67f-4101-964e-51b87e693493",
   "metadata": {},
   "outputs": [
    {
     "data": {
      "text/html": [
       "<style>#sk-container-id-2 {color: black;background-color: white;}#sk-container-id-2 pre{padding: 0;}#sk-container-id-2 div.sk-toggleable {background-color: white;}#sk-container-id-2 label.sk-toggleable__label {cursor: pointer;display: block;width: 100%;margin-bottom: 0;padding: 0.3em;box-sizing: border-box;text-align: center;}#sk-container-id-2 label.sk-toggleable__label-arrow:before {content: \"▸\";float: left;margin-right: 0.25em;color: #696969;}#sk-container-id-2 label.sk-toggleable__label-arrow:hover:before {color: black;}#sk-container-id-2 div.sk-estimator:hover label.sk-toggleable__label-arrow:before {color: black;}#sk-container-id-2 div.sk-toggleable__content {max-height: 0;max-width: 0;overflow: hidden;text-align: left;background-color: #f0f8ff;}#sk-container-id-2 div.sk-toggleable__content pre {margin: 0.2em;color: black;border-radius: 0.25em;background-color: #f0f8ff;}#sk-container-id-2 input.sk-toggleable__control:checked~div.sk-toggleable__content {max-height: 200px;max-width: 100%;overflow: auto;}#sk-container-id-2 input.sk-toggleable__control:checked~label.sk-toggleable__label-arrow:before {content: \"▾\";}#sk-container-id-2 div.sk-estimator input.sk-toggleable__control:checked~label.sk-toggleable__label {background-color: #d4ebff;}#sk-container-id-2 div.sk-label input.sk-toggleable__control:checked~label.sk-toggleable__label {background-color: #d4ebff;}#sk-container-id-2 input.sk-hidden--visually {border: 0;clip: rect(1px 1px 1px 1px);clip: rect(1px, 1px, 1px, 1px);height: 1px;margin: -1px;overflow: hidden;padding: 0;position: absolute;width: 1px;}#sk-container-id-2 div.sk-estimator {font-family: monospace;background-color: #f0f8ff;border: 1px dotted black;border-radius: 0.25em;box-sizing: border-box;margin-bottom: 0.5em;}#sk-container-id-2 div.sk-estimator:hover {background-color: #d4ebff;}#sk-container-id-2 div.sk-parallel-item::after {content: \"\";width: 100%;border-bottom: 1px solid gray;flex-grow: 1;}#sk-container-id-2 div.sk-label:hover label.sk-toggleable__label {background-color: #d4ebff;}#sk-container-id-2 div.sk-serial::before {content: \"\";position: absolute;border-left: 1px solid gray;box-sizing: border-box;top: 0;bottom: 0;left: 50%;z-index: 0;}#sk-container-id-2 div.sk-serial {display: flex;flex-direction: column;align-items: center;background-color: white;padding-right: 0.2em;padding-left: 0.2em;position: relative;}#sk-container-id-2 div.sk-item {position: relative;z-index: 1;}#sk-container-id-2 div.sk-parallel {display: flex;align-items: stretch;justify-content: center;background-color: white;position: relative;}#sk-container-id-2 div.sk-item::before, #sk-container-id-2 div.sk-parallel-item::before {content: \"\";position: absolute;border-left: 1px solid gray;box-sizing: border-box;top: 0;bottom: 0;left: 50%;z-index: -1;}#sk-container-id-2 div.sk-parallel-item {display: flex;flex-direction: column;z-index: 1;position: relative;background-color: white;}#sk-container-id-2 div.sk-parallel-item:first-child::after {align-self: flex-end;width: 50%;}#sk-container-id-2 div.sk-parallel-item:last-child::after {align-self: flex-start;width: 50%;}#sk-container-id-2 div.sk-parallel-item:only-child::after {width: 0;}#sk-container-id-2 div.sk-dashed-wrapped {border: 1px dashed gray;margin: 0 0.4em 0.5em 0.4em;box-sizing: border-box;padding-bottom: 0.4em;background-color: white;}#sk-container-id-2 div.sk-label label {font-family: monospace;font-weight: bold;display: inline-block;line-height: 1.2em;}#sk-container-id-2 div.sk-label-container {text-align: center;}#sk-container-id-2 div.sk-container {/* jupyter's `normalize.less` sets `[hidden] { display: none; }` but bootstrap.min.css set `[hidden] { display: none !important; }` so we also need the `!important` here to be able to override the default hidden behavior on the sphinx rendered scikit-learn.org. See: https://github.com/scikit-learn/scikit-learn/issues/21755 */display: inline-block !important;position: relative;}#sk-container-id-2 div.sk-text-repr-fallback {display: none;}</style><div id=\"sk-container-id-2\" class=\"sk-top-container\"><div class=\"sk-text-repr-fallback\"><pre>AdaBoostClassifier(algorithm=&#x27;SAMME&#x27;,\n",
       "                   base_estimator=DecisionTreeClassifier(max_depth=3),\n",
       "                   learning_rate=0.1, random_state=42)</pre><b>In a Jupyter environment, please rerun this cell to show the HTML representation or trust the notebook. <br />On GitHub, the HTML representation is unable to render, please try loading this page with nbviewer.org.</b></div><div class=\"sk-container\" hidden><div class=\"sk-item sk-dashed-wrapped\"><div class=\"sk-label-container\"><div class=\"sk-label sk-toggleable\"><input class=\"sk-toggleable__control sk-hidden--visually\" id=\"sk-estimator-id-2\" type=\"checkbox\" ><label for=\"sk-estimator-id-2\" class=\"sk-toggleable__label sk-toggleable__label-arrow\">AdaBoostClassifier</label><div class=\"sk-toggleable__content\"><pre>AdaBoostClassifier(algorithm=&#x27;SAMME&#x27;,\n",
       "                   base_estimator=DecisionTreeClassifier(max_depth=3),\n",
       "                   learning_rate=0.1, random_state=42)</pre></div></div></div><div class=\"sk-parallel\"><div class=\"sk-parallel-item\"><div class=\"sk-item\"><div class=\"sk-label-container\"><div class=\"sk-label sk-toggleable\"><input class=\"sk-toggleable__control sk-hidden--visually\" id=\"sk-estimator-id-3\" type=\"checkbox\" ><label for=\"sk-estimator-id-3\" class=\"sk-toggleable__label sk-toggleable__label-arrow\">base_estimator: DecisionTreeClassifier</label><div class=\"sk-toggleable__content\"><pre>DecisionTreeClassifier(max_depth=3)</pre></div></div></div><div class=\"sk-serial\"><div class=\"sk-item\"><div class=\"sk-estimator sk-toggleable\"><input class=\"sk-toggleable__control sk-hidden--visually\" id=\"sk-estimator-id-4\" type=\"checkbox\" ><label for=\"sk-estimator-id-4\" class=\"sk-toggleable__label sk-toggleable__label-arrow\">DecisionTreeClassifier</label><div class=\"sk-toggleable__content\"><pre>DecisionTreeClassifier(max_depth=3)</pre></div></div></div></div></div></div></div></div></div></div>"
      ],
      "text/plain": [
       "AdaBoostClassifier(algorithm='SAMME',\n",
       "                   base_estimator=DecisionTreeClassifier(max_depth=3),\n",
       "                   learning_rate=0.1, random_state=42)"
      ]
     },
     "execution_count": 46,
     "metadata": {},
     "output_type": "execute_result"
    }
   ],
   "source": [
    "# Fit model\n",
    "### Logistic Regression\n",
    "from sklearn.linear_model import LogisticRegression\n",
    "\n",
    "logit = LogisticRegression(C=1e8)\n",
    "logit.fit(X_train_array, y_train_array)\n",
    "\n",
    "## Decision Tree\n",
    "from sklearn.tree import DecisionTreeClassifier\n",
    "\n",
    "tree_clf = DecisionTreeClassifier(max_depth=3, min_samples_leaf=10, random_state=42)\n",
    "tree_clf.fit(X_train_array, y_train_array)\n",
    "\n",
    "## Random Forest\n",
    "from sklearn.ensemble import RandomForestClassifier\n",
    "\n",
    "forest_clf = RandomForestClassifier(n_estimators=50, max_depth=3, min_samples_leaf=10, random_state=42)\n",
    "forest_clf.fit(X_train_array, y_train_array)\n",
    "\n",
    "## Support Vector Machine\n",
    "from sklearn.svm import SVC\n",
    "\n",
    "# svm_clf = SVC(kernel=\"poly\", degree=2, coef0=1, C=5)\n",
    "svm_clf = SVC(kernel=\"rbf\", gamma=1, C=0.001)\n",
    "svm_clf.fit(X_train_array, y_train_array)\n",
    "\n",
    "## AdaBoost\n",
    "from sklearn.ensemble import AdaBoostClassifier\n",
    "\n",
    "ada_clf = AdaBoostClassifier(\n",
    "    DecisionTreeClassifier(max_depth=3), n_estimators=50,\n",
    "    algorithm=\"SAMME\", learning_rate=0.1, random_state=42\n",
    ")\n",
    "ada_clf.fit(X_train_array, y_train_array)"
   ]
  },
  {
   "cell_type": "markdown",
   "id": "f15c3f29-127f-461e-943b-22106349fc5c",
   "metadata": {},
   "source": [
    "Evaluate models' AUC score with cross-validation of 10 folds and compare with **base_model**:"
   ]
  },
  {
   "cell_type": "code",
   "execution_count": 47,
   "id": "6b9e5bbd-ef5a-489a-9547-6871f5a5099c",
   "metadata": {},
   "outputs": [
    {
     "data": {
      "text/plain": [
       "'Train AUC Score Avg: 0.8342823299888517, Test AUC Score Avg: 0.8658459595959596'"
      ]
     },
     "execution_count": 47,
     "metadata": {},
     "output_type": "execute_result"
    }
   ],
   "source": [
    "base_model_auc"
   ]
  },
  {
   "cell_type": "code",
   "execution_count": 48,
   "id": "dde133d2-bb70-432b-bb00-f1bf7d9df1ca",
   "metadata": {},
   "outputs": [
    {
     "data": {
      "text/plain": [
       "'Train AUC Score Avg: 0.8425241545893719, Test AUC Score Avg: 0.8838320707070706'"
      ]
     },
     "execution_count": 48,
     "metadata": {},
     "output_type": "execute_result"
    }
   ],
   "source": [
    "auc_score_cv10(logit)"
   ]
  },
  {
   "cell_type": "code",
   "execution_count": 49,
   "id": "2c8ada34-c5eb-40f6-bb96-1e31afce205a",
   "metadata": {},
   "outputs": [
    {
     "data": {
      "text/plain": [
       "'Train AUC Score Avg: 0.8172273318468971, Test AUC Score Avg: 0.8520391414141413'"
      ]
     },
     "execution_count": 49,
     "metadata": {},
     "output_type": "execute_result"
    }
   ],
   "source": [
    "auc_score_cv10(tree_clf)"
   ]
  },
  {
   "cell_type": "code",
   "execution_count": 50,
   "id": "34a643b1-3ed3-4714-b130-5260e34d3db9",
   "metadata": {},
   "outputs": [
    {
     "data": {
      "text/plain": [
       "'Train AUC Score Avg: 0.8437834448160535, Test AUC Score Avg: 0.8659027777777778'"
      ]
     },
     "execution_count": 50,
     "metadata": {},
     "output_type": "execute_result"
    }
   ],
   "source": [
    "auc_score_cv10(forest_clf)"
   ]
  },
  {
   "cell_type": "code",
   "execution_count": 51,
   "id": "464bc932-9f9e-407c-abbf-4bced41ea030",
   "metadata": {},
   "outputs": [
    {
     "data": {
      "text/plain": [
       "'Train AUC Score Avg: 0.8366211445559273, Test AUC Score Avg: 0.8755744949494948'"
      ]
     },
     "execution_count": 51,
     "metadata": {},
     "output_type": "execute_result"
    }
   ],
   "source": [
    "auc_score_cv10(svm_clf)"
   ]
  },
  {
   "cell_type": "code",
   "execution_count": 52,
   "id": "5cc6b8e4-82e2-48aa-bba5-154f300c2ea0",
   "metadata": {},
   "outputs": [
    {
     "data": {
      "text/plain": [
       "'Train AUC Score Avg: 0.8516796729840209, Test AUC Score Avg: 0.8684343434343436'"
      ]
     },
     "execution_count": 52,
     "metadata": {},
     "output_type": "execute_result"
    }
   ],
   "source": [
    "auc_score_cv10(ada_clf)"
   ]
  },
  {
   "cell_type": "markdown",
   "id": "0950fda1-7a28-4ef8-b58e-b2cf797b09df",
   "metadata": {},
   "source": [
    "### D. Conclusion"
   ]
  },
  {
   "cell_type": "markdown",
   "id": "cea8277f-6da6-404b-a4ad-d75f822afc48",
   "metadata": {},
   "source": [
    "After performing some basic steps tuning my model.\n",
    "\n",
    "Logistic Regression showed the best outcome on test set with AUC score of 0.8838.\n",
    "\n",
    "However, AdaBoost showed a more stable model with high and similar AUC score on both train and test set, at 0.8516 and 0.8684 respectively.\n",
    "\n",
    "This notebook is not perfect. You can perform further actions to create more powerful model."
   ]
  }
 ],
 "metadata": {
  "kernelspec": {
   "display_name": "Python 3 (ipykernel)",
   "language": "python",
   "name": "python3"
  },
  "language_info": {
   "codemirror_mode": {
    "name": "ipython",
    "version": 3
   },
   "file_extension": ".py",
   "mimetype": "text/x-python",
   "name": "python",
   "nbconvert_exporter": "python",
   "pygments_lexer": "ipython3",
   "version": "3.8.8"
  }
 },
 "nbformat": 4,
 "nbformat_minor": 5
}
